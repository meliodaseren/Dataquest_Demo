{
 "cells": [
  {
   "cell_type": "markdown",
   "metadata": {},
   "source": [
    "# Becoming a Data Engineer"
   ]
  },
  {
   "cell_type": "markdown",
   "metadata": {},
   "source": [
    "## Step 1: Handling Large Data Sets In Python"
   ]
  },
  {
   "cell_type": "markdown",
   "metadata": {},
   "source": [
    "Download the data sets: https://data.world/moma/exhibitions"
   ]
  },
  {
   "cell_type": "code",
   "execution_count": 7,
   "metadata": {
    "collapsed": true
   },
   "outputs": [],
   "source": [
    "import pandas as pd\n",
    "import numpy as np\n",
    "# Read the file moma.csv into a dataframe named moma.\n",
    "moma = pd.read_csv(\"moma-exhibitions/MoMAExhibitions1929to1989.csv\")"
   ]
  },
  {
   "cell_type": "code",
   "execution_count": 2,
   "metadata": {},
   "outputs": [
    {
     "name": "stdout",
     "output_type": "stream",
     "text": [
      "<class 'pandas.core.frame.DataFrame'>\n",
      "RangeIndex: 34558 entries, 0 to 34557\n",
      "Data columns (total 27 columns):\n",
      "ExhibitionID              34129 non-null float64\n",
      "ExhibitionNumber          34558 non-null object\n",
      "ExhibitionTitle           34558 non-null object\n",
      "ExhibitionCitationDate    34557 non-null object\n",
      "ExhibitionBeginDate       34558 non-null object\n",
      "ExhibitionEndDate         33354 non-null object\n",
      "ExhibitionSortOrder       34558 non-null float64\n",
      "ExhibitionURL             34125 non-null object\n",
      "ExhibitionRole            34424 non-null object\n",
      "ConstituentID             34044 non-null float64\n",
      "ConstituentType           34424 non-null object\n",
      "DisplayName               34424 non-null object\n",
      "AlphaSort                 34424 non-null object\n",
      "FirstName                 31499 non-null object\n",
      "MiddleName                3804 non-null object\n",
      "LastName                  31998 non-null object\n",
      "Suffix                    157 non-null object\n",
      "Institution               2458 non-null object\n",
      "Nationality               26072 non-null object\n",
      "ConstituentBeginDate      25290 non-null float64\n",
      "ConstituentEndDate        19819 non-null float64\n",
      "ArtistBio                 26089 non-null object\n",
      "Gender                    25796 non-null object\n",
      "VIAFID                    26996 non-null float64\n",
      "WikidataID                22241 non-null object\n",
      "ULANID                    21688 non-null float64\n",
      "ConstituentURL            34044 non-null object\n",
      "dtypes: float64(7), object(20)\n",
      "memory usage: 7.1+ MB\n",
      "None\n"
     ]
    }
   ],
   "source": [
    "# The DataFrame.info() method returns an estimate for the amount of memory a dataframe consumes.\n",
    "# Display the memory usage of the moma dataframe.\n",
    "print(moma.info())"
   ]
  },
  {
   "cell_type": "code",
   "execution_count": 3,
   "metadata": {},
   "outputs": [
    {
     "name": "stdout",
     "output_type": "stream",
     "text": [
      "BlockManager\n",
      "Items: Index(['ExhibitionID', 'ExhibitionNumber', 'ExhibitionTitle',\n",
      "       'ExhibitionCitationDate', 'ExhibitionBeginDate', 'ExhibitionEndDate',\n",
      "       'ExhibitionSortOrder', 'ExhibitionURL', 'ExhibitionRole',\n",
      "       'ConstituentID', 'ConstituentType', 'DisplayName', 'AlphaSort',\n",
      "       'FirstName', 'MiddleName', 'LastName', 'Suffix', 'Institution',\n",
      "       'Nationality', 'ConstituentBeginDate', 'ConstituentEndDate',\n",
      "       'ArtistBio', 'Gender', 'VIAFID', 'WikidataID', 'ULANID',\n",
      "       'ConstituentURL'],\n",
      "      dtype='object')\n",
      "Axis 1: RangeIndex(start=0, stop=34558, step=1)\n",
      "FloatBlock: [0, 6, 9, 19, 20, 23, 25], 7 x 34558, dtype: float64\n",
      "ObjectBlock: [1, 2, 3, 4, 5, 7, 8, 10, 11, 12, 13, 14, 15, 16, 17, 18, 21, 22, 24, 26], 20 x 34558, dtype: object\n"
     ]
    }
   ],
   "source": [
    "# Retrieve the underlying BlockManager instance.\n",
    "print(moma._data)"
   ]
  },
  {
   "cell_type": "code",
   "execution_count": 4,
   "metadata": {},
   "outputs": [
    {
     "name": "stdout",
     "output_type": "stream",
     "text": [
      "7464528\n",
      "7.1187286377\n"
     ]
    }
   ],
   "source": [
    "# Recreate the estimate of the memory footprint by multiplying the number of values\n",
    "# in the moma dataframe by 8. Assign this number to total_bytes.\n",
    "# Use the DataFrame.size attribute to return the number of values in a dataframe.\n",
    "total_bytes = moma.size * 8\n",
    "\n",
    "# Convert total_bytes from bytes to megabytes, and assign the result to total_megabytes.\n",
    "total_megabytes = total_bytes / 1048576\n",
    "\n",
    "print(total_bytes)\n",
    "print(total_megabytes)"
   ]
  },
  {
   "cell_type": "code",
   "execution_count": 5,
   "metadata": {},
   "outputs": [
    {
     "name": "stdout",
     "output_type": "stream",
     "text": [
      "Index                          80\n",
      "ExhibitionNumber          2085250\n",
      "ExhibitionTitle           3333695\n",
      "ExhibitionCitationDate    3577728\n",
      "ExhibitionBeginDate       2281851\n",
      "ExhibitionEndDate         2234872\n",
      "ExhibitionURL             3494606\n",
      "ExhibitionRole            2179383\n",
      "ConstituentType           2313112\n",
      "DisplayName               2548428\n",
      "AlphaSort                 2534329\n",
      "FirstName                 2104909\n",
      "MiddleName                1218917\n",
      "LastName                  2162937\n",
      "Suffix                    1110333\n",
      "Institution               1221368\n",
      "Nationality               1949664\n",
      "ArtistBio                 3183300\n",
      "Gender                    1858994\n",
      "WikidataID                1821293\n",
      "ConstituentURL            2677922\n",
      "dtype: int64\n",
      "43.766947746276855\n"
     ]
    }
   ],
   "source": [
    "# Select just the object columns from the moma dataframe\n",
    "# and assign the resulting dataframe to obj_cols.\n",
    "obj_cols = moma.select_dtypes(include=['object'])\n",
    "\n",
    "# Use the DataFrame.memory_usage() method and set the deep parameter to True\n",
    "# to return the memory footprint of each column in obj_cols.\n",
    "# Assign the resulting series to obj_cols_mem.\n",
    "obj_cols_mem = obj_cols.memory_usage(deep=True)\n",
    "print(obj_cols_mem)\n",
    "\n",
    "# Use the Series.sum() method to sum the values in obj_cols_mem,\n",
    "# convert the result to megabytes, and assign the result to obj_cols_sum.\n",
    "obj_cols_sum = obj_cols_mem.sum()/1048576\n",
    "print(obj_cols_sum)"
   ]
  },
  {
   "cell_type": "code",
   "execution_count": 8,
   "metadata": {},
   "outputs": [
    {
     "name": "stdout",
     "output_type": "stream",
     "text": [
      "int16\n",
      "69196\n"
     ]
    }
   ],
   "source": [
    "# Find the smallest int subtype that can accommodate the values in the ExhibitionSortOrder column.\n",
    "# Use the Series.astype() function to set the type, and assign it back to the moma dataframe.\n",
    "\n",
    "col_max = moma['ExhibitionSortOrder'].max()\n",
    "col_min = moma['ExhibitionSortOrder'].min()\n",
    "\n",
    "if col_max <  np.iinfo(\"int8\").max and col_min > np.iinfo(\"int8\").min:\n",
    "    moma['ExhibitionSortOrder'] = moma['ExhibitionSortOrder'].astype(\"int8\")\n",
    "elif col_max <  np.iinfo(\"int16\").max and col_min > np.iinfo(\"int16\").min:\n",
    "    moma['ExhibitionSortOrder'] = moma['ExhibitionSortOrder'].astype(\"int16\")\n",
    "elif col_max <  np.iinfo(\"int32\").max and col_min > np.iinfo(\"int32\").min:\n",
    "    moma['ExhibitionSortOrder'] = moma['ExhibitionSortOrder'].astype(\"int32\")\n",
    "elif col_max <  np.iinfo(\"int64\").max and col_min > np.iinfo(\"int64\").min:\n",
    "    moma['ExhibitionSortOrder'] = moma['ExhibitionSortOrder'].astype(\"int64\")\n",
    "\n",
    "print(moma['ExhibitionSortOrder'].dtype)\n",
    "print(moma['ExhibitionSortOrder'].memory_usage(deep=True))"
   ]
  },
  {
   "cell_type": "code",
   "execution_count": 9,
   "metadata": {},
   "outputs": [
    {
     "name": "stdout",
     "output_type": "stream",
     "text": [
      "ExhibitionID            float64\n",
      "ConstituentID           float64\n",
      "ConstituentBeginDate    float64\n",
      "ConstituentEndDate      float64\n",
      "VIAFID                  float64\n",
      "ULANID                  float64\n",
      "dtype: object\n",
      "Series([], dtype: object)\n"
     ]
    }
   ],
   "source": [
    "# Convert the remaining float columns to the most space efficient float subtype.\n",
    "# Select the float columns again, and display their dtypes using the DataFrame.dtypes attribute.\n",
    "\n",
    "moma['ExhibitionSortOrder'] = moma['ExhibitionSortOrder'].astype(\"int16\")\n",
    "\n",
    "float_cols = moma.select_dtypes(include=['float'])\n",
    "\n",
    "print(float_cols.dtypes)\n",
    "\n",
    "for col in float_cols.columns:\n",
    "    moma[col] = pd.to_numeric(moma[col], downcast='float')\n",
    "\n",
    "print(moma.select_dtypes(include=['float']).dtypes)"
   ]
  },
  {
   "cell_type": "code",
   "execution_count": 10,
   "metadata": {},
   "outputs": [
    {
     "name": "stdout",
     "output_type": "stream",
     "text": [
      "Index                      80\n",
      "ExhibitionBeginDate    276464\n",
      "ExhibitionEndDate      276464\n",
      "dtype: int64\n"
     ]
    }
   ],
   "source": [
    "# Convert the ExhibitionBeginDate and ExhibitionEndDate columns to the datetime type,\n",
    "# and assign the results back to the moma dataframe.\n",
    "# Display the memory usage for both of these columns using the DataFrame.memory_usage() method.\n",
    "\n",
    "moma[\"ExhibitionBeginDate\"] = pd.to_datetime(moma[\"ExhibitionBeginDate\"])\n",
    "moma[\"ExhibitionEndDate\"] = pd.to_datetime(moma[\"ExhibitionEndDate\"])\n",
    "\n",
    "print(moma[[\"ExhibitionBeginDate\", \"ExhibitionEndDate\"]].memory_usage(deep=True))"
   ]
  },
  {
   "cell_type": "code",
   "execution_count": 11,
   "metadata": {},
   "outputs": [
    {
     "name": "stdout",
     "output_type": "stream",
     "text": [
      "<class 'pandas.core.frame.DataFrame'>\n",
      "RangeIndex: 34558 entries, 0 to 34557\n",
      "Data columns (total 27 columns):\n",
      "ExhibitionID              34129 non-null float32\n",
      "ExhibitionNumber          34558 non-null category\n",
      "ExhibitionTitle           34558 non-null category\n",
      "ExhibitionCitationDate    34557 non-null category\n",
      "ExhibitionBeginDate       34558 non-null datetime64[ns]\n",
      "ExhibitionEndDate         33354 non-null datetime64[ns]\n",
      "ExhibitionSortOrder       34558 non-null int16\n",
      "ExhibitionURL             34125 non-null category\n",
      "ExhibitionRole            34424 non-null category\n",
      "ConstituentID             34044 non-null float32\n",
      "ConstituentType           34424 non-null category\n",
      "DisplayName               34424 non-null category\n",
      "AlphaSort                 34424 non-null category\n",
      "FirstName                 31499 non-null category\n",
      "MiddleName                3804 non-null category\n",
      "LastName                  31998 non-null category\n",
      "Suffix                    157 non-null category\n",
      "Institution               2458 non-null category\n",
      "Nationality               26072 non-null category\n",
      "ConstituentBeginDate      25290 non-null float32\n",
      "ConstituentEndDate        19819 non-null float32\n",
      "ArtistBio                 26089 non-null category\n",
      "Gender                    25796 non-null category\n",
      "VIAFID                    26996 non-null float32\n",
      "WikidataID                22241 non-null category\n",
      "ULANID                    21688 non-null float32\n",
      "ConstituentURL            34044 non-null category\n",
      "dtypes: category(18), datetime64[ns](2), float32(6), int16(1)\n",
      "memory usage: 8.9 MB\n",
      "None\n"
     ]
    }
   ],
   "source": [
    "# Convert all object columns where less than half of\n",
    "# the column's values are unique to the category dtype.\n",
    "# Return the deep memory footprint using the DataFrame.info() method.\n",
    "\n",
    "obj_cols = moma.select_dtypes(include=['object'])\n",
    "\n",
    "for col in obj_cols.columns:\n",
    "    num_unique_values = len(moma[col].unique())\n",
    "    num_total_values = len(moma[col])\n",
    "    if num_unique_values / num_total_values < 0.5:\n",
    "        moma[col] = moma[col].astype('category')\n",
    "        \n",
    "print(moma.info(memory_usage='deep'))"
   ]
  },
  {
   "cell_type": "code",
   "execution_count": 13,
   "metadata": {},
   "outputs": [
    {
     "name": "stdout",
     "output_type": "stream",
     "text": [
      "14.555106163024902\n"
     ]
    }
   ],
   "source": [
    "# Read \"moma.csv\" into a dataframe named moma:\n",
    "# Set the ExhibitionBeginDate and ExhibitionEndDate columns to the datetime type.\n",
    "# Include only these columns:\n",
    "  # ExhibitionID\n",
    "  # ExhibitionNumber\n",
    "  # ExhibitionBeginDate\n",
    "  # ExhibitionEndDate\n",
    "  # ExhibitionSortOrder\n",
    "  # ExhibitionRole\n",
    "  # ConstituentType\n",
    "  # DisplayName\n",
    "  # Institution\n",
    "  # Nationality\n",
    "  # Gender\n",
    "# Display the deep memory footprint in megabytes.\n",
    "\n",
    "keep_cols = ['ExhibitionID', 'ExhibitionNumber', 'ExhibitionBeginDate',\n",
    "             'ExhibitionEndDate', 'ExhibitionSortOrder', 'ExhibitionRole',\n",
    "             'ConstituentType', 'DisplayName', 'Institution', 'Nationality', 'Gender']\n",
    "\n",
    "moma = pd.read_csv(\"moma-exhibitions/MoMAExhibitions1929to1989.csv\",\n",
    "                   parse_dates=[\"ExhibitionBeginDate\", \"ExhibitionEndDate\"],\n",
    "                   usecols=keep_cols)\n",
    "\n",
    "print(moma.memory_usage(deep=True).sum() / (1024*1024))"
   ]
  },
  {
   "cell_type": "code",
   "execution_count": null,
   "metadata": {
    "collapsed": true
   },
   "outputs": [],
   "source": []
  }
 ],
 "metadata": {
  "kernelspec": {
   "display_name": "Python 3",
   "language": "python",
   "name": "python3"
  },
  "language_info": {
   "codemirror_mode": {
    "name": "ipython",
    "version": 3
   },
   "file_extension": ".py",
   "mimetype": "text/x-python",
   "name": "python",
   "nbconvert_exporter": "python",
   "pygments_lexer": "ipython3",
   "version": "3.6.1"
  }
 },
 "nbformat": 4,
 "nbformat_minor": 2
}
